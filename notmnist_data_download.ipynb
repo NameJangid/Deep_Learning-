{
 "cells": [
  {
   "cell_type": "code",
   "execution_count": 1,
   "metadata": {},
   "outputs": [],
   "source": [
    "from __future__ import print_function\n",
    "import imageio\n",
    "import matplotlib.pyplot as plt\n",
    "import numpy as np\n",
    "import os\n",
    "import sys\n",
    "import tarfile\n",
    "from IPython.display import display, Image\n",
    "from sklearn.linear_model import LogisticRegression\n",
    "from six.moves.urllib.request import urlretrieve\n",
    "from six.moves import cPickle as pickle\n",
    "\n",
    "%matplotlib inline"
   ]
  },
  {
   "cell_type": "code",
   "execution_count": 2,
   "metadata": {},
   "outputs": [
    {
     "name": "stdout",
     "output_type": "stream",
     "text": [
      "Found and verified ./notMNIST_large.tar.gz\n",
      "Found and verified ./notMNIST_small.tar.gz\n"
     ]
    }
   ],
   "source": [
    "url = 'https://commondatastorage.googleapis.com/books1000/'\n",
    "last_percent_reported = None\n",
    "data_root = '.' # Change me to store data elsewhere\n",
    "\n",
    "def download_progress_hook(count, blockSize, totalSize):\n",
    "  \"\"\"A hook to report the progress of a download. This is mostly intended for users with\n",
    "  slow internet connections. Reports every 5% change in download progress.\n",
    "  \"\"\"\n",
    "  global last_percent_reported\n",
    "  percent = int(count * blockSize * 100 / totalSize)\n",
    "\n",
    "  if last_percent_reported != percent:\n",
    "    if percent % 5 == 0:\n",
    "      sys.stdout.write(\"%s%%\" % percent)\n",
    "      sys.stdout.flush()\n",
    "    else:\n",
    "      sys.stdout.write(\".\")\n",
    "      sys.stdout.flush()\n",
    "      \n",
    "    last_percent_reported = percent\n",
    "        \n",
    "def maybe_download(filename, expected_bytes, force=False):\n",
    "  \"\"\"Download a file if not present, and make sure it's the right size.\"\"\"\n",
    "  dest_filename = os.path.join(data_root, filename)\n",
    "  if force or not os.path.exists(dest_filename):\n",
    "    print('Attempting to download:', filename) \n",
    "    filename, _ = urlretrieve(url + filename, dest_filename, reporthook=download_progress_hook)\n",
    "    print('\\nDownload Complete!')\n",
    "  statinfo = os.stat(dest_filename)\n",
    "  if statinfo.st_size == expected_bytes:\n",
    "    print('Found and verified', dest_filename)\n",
    "  else:\n",
    "    raise Exception(\n",
    "      'Failed to verify ' + dest_filename + '. Can you get to it with a browser?')\n",
    "  return dest_filename\n",
    "\n",
    "train_filename = maybe_download('notMNIST_large.tar.gz', 247336696)\n",
    "test_filename = maybe_download('notMNIST_small.tar.gz', 8458043)"
   ]
  },
  {
   "cell_type": "code",
   "execution_count": 3,
   "metadata": {},
   "outputs": [
    {
     "name": "stdout",
     "output_type": "stream",
     "text": [
      "./notMNIST_large already present - Skipping extraction of ./notMNIST_large.tar.gz.\n",
      "['./notMNIST_large/A', './notMNIST_large/B', './notMNIST_large/C', './notMNIST_large/D', './notMNIST_large/E', './notMNIST_large/F', './notMNIST_large/G', './notMNIST_large/H', './notMNIST_large/I', './notMNIST_large/J']\n",
      "./notMNIST_small already present - Skipping extraction of ./notMNIST_small.tar.gz.\n",
      "['./notMNIST_small/A', './notMNIST_small/B', './notMNIST_small/C', './notMNIST_small/D', './notMNIST_small/E', './notMNIST_small/F', './notMNIST_small/G', './notMNIST_small/H', './notMNIST_small/I', './notMNIST_small/J']\n"
     ]
    }
   ],
   "source": [
    "num_classes = 10\n",
    "np.random.seed(133)\n",
    "\n",
    "def maybe_extract(filename, force=False):\n",
    "  root = os.path.splitext(os.path.splitext(filename)[0])[0]  # remove .tar.gz\n",
    "  if os.path.isdir(root) and not force:\n",
    "    # You may override by setting force=True.\n",
    "    print('%s already present - Skipping extraction of %s.' % (root, filename))\n",
    "  else:\n",
    "    print('Extracting data for %s. This may take a while. Please wait.' % root)\n",
    "    tar = tarfile.open(filename)\n",
    "    sys.stdout.flush()\n",
    "    tar.extractall(data_root)\n",
    "    tar.close()\n",
    "  data_folders = [\n",
    "    os.path.join(root, d) for d in sorted(os.listdir(root))\n",
    "    if os.path.isdir(os.path.join(root, d))]\n",
    "  if len(data_folders) != num_classes:\n",
    "    raise Exception(\n",
    "      'Expected %d folders, one per class. Found %d instead.' % (\n",
    "        num_classes, len(data_folders)))\n",
    "  print(data_folders)\n",
    "  return data_folders\n",
    "  \n",
    "train_folders = maybe_extract(train_filename)\n",
    "test_folders = maybe_extract(test_filename)"
   ]
  },
  {
   "cell_type": "code",
   "execution_count": 4,
   "metadata": {},
   "outputs": [
    {
     "data": {
      "text/html": [
       "<img src=\"notMNIST_small/A/MDEtMDEtMDAudHRm.png\"/>"
      ],
      "text/plain": [
       "<IPython.core.display.Image object>"
      ]
     },
     "execution_count": 4,
     "metadata": {},
     "output_type": "execute_result"
    }
   ],
   "source": [
    "from IPython.display import Image\n",
    "Image(url='notMNIST_small/A/MDEtMDEtMDAudHRm.png')"
   ]
  },
  {
   "cell_type": "code",
   "execution_count": 6,
   "metadata": {},
   "outputs": [
    {
     "name": "stdout",
     "output_type": "stream",
     "text": [
      "Pickling ./notMNIST_large/A.pickle.\n",
      "./notMNIST_large/A\n",
      "Could not read: ./notMNIST_large/A/Um9tYW5hIEJvbGQucGZi.png : Could not find a format to read the specified file in mode 'i' - it's ok, skipping.\n",
      "Could not read: ./notMNIST_large/A/RnJlaWdodERpc3BCb29rSXRhbGljLnR0Zg==.png : Could not find a format to read the specified file in mode 'i' - it's ok, skipping.\n",
      "Could not read: ./notMNIST_large/A/SG90IE11c3RhcmQgQlROIFBvc3Rlci50dGY=.png : Could not find a format to read the specified file in mode 'i' - it's ok, skipping.\n",
      "Full dataset tensor: (52909, 28, 28)\n",
      "Mean: -0.12825029\n",
      "Standard deviation: 0.44312057\n",
      "Pickling ./notMNIST_large/B.pickle.\n",
      "./notMNIST_large/B\n",
      "Could not read: ./notMNIST_large/B/TmlraXNFRi1TZW1pQm9sZEl0YWxpYy5vdGY=.png : Could not find a format to read the specified file in mode 'i' - it's ok, skipping.\n",
      "Full dataset tensor: (52911, 28, 28)\n",
      "Mean: -0.007563033\n",
      "Standard deviation: 0.45449144\n",
      "Pickling ./notMNIST_large/C.pickle.\n",
      "./notMNIST_large/C\n",
      "Full dataset tensor: (52912, 28, 28)\n",
      "Mean: -0.14225778\n",
      "Standard deviation: 0.43980613\n",
      "Pickling ./notMNIST_large/D.pickle.\n",
      "./notMNIST_large/D\n",
      "Could not read: ./notMNIST_large/D/VHJhbnNpdCBCb2xkLnR0Zg==.png : Could not find a format to read the specified file in mode 'i' - it's ok, skipping.\n",
      "Full dataset tensor: (52911, 28, 28)\n",
      "Mean: -0.057367772\n",
      "Standard deviation: 0.45564708\n",
      "Pickling ./notMNIST_large/E.pickle.\n",
      "./notMNIST_large/E\n",
      "Full dataset tensor: (52912, 28, 28)\n",
      "Mean: -0.06989898\n",
      "Standard deviation: 0.45294133\n",
      "Pickling ./notMNIST_large/F.pickle.\n",
      "./notMNIST_large/F\n",
      "Full dataset tensor: (52912, 28, 28)\n",
      "Mean: -0.12558323\n",
      "Standard deviation: 0.4470895\n",
      "Pickling ./notMNIST_large/G.pickle.\n",
      "./notMNIST_large/G\n",
      "Full dataset tensor: (52912, 28, 28)\n",
      "Mean: -0.09458134\n",
      "Standard deviation: 0.44623992\n",
      "Pickling ./notMNIST_large/H.pickle.\n",
      "./notMNIST_large/H\n",
      "Full dataset tensor: (52912, 28, 28)\n",
      "Mean: -0.06852224\n",
      "Standard deviation: 0.4542314\n",
      "Pickling ./notMNIST_large/I.pickle.\n",
      "./notMNIST_large/I\n",
      "Full dataset tensor: (52912, 28, 28)\n",
      "Mean: 0.030786231\n",
      "Standard deviation: 0.46889848\n",
      "Pickling ./notMNIST_large/J.pickle.\n",
      "./notMNIST_large/J\n",
      "Full dataset tensor: (52911, 28, 28)\n",
      "Mean: -0.15335841\n",
      "Standard deviation: 0.44365647\n",
      "Pickling ./notMNIST_small/A.pickle.\n",
      "./notMNIST_small/A\n",
      "Could not read: ./notMNIST_small/A/RGVtb2NyYXRpY2FCb2xkT2xkc3R5bGUgQm9sZC50dGY=.png : Could not find a format to read the specified file in mode 'i' - it's ok, skipping.\n",
      "Full dataset tensor: (1872, 28, 28)\n",
      "Mean: -0.13262635\n",
      "Standard deviation: 0.4451279\n",
      "Pickling ./notMNIST_small/B.pickle.\n",
      "./notMNIST_small/B\n",
      "Full dataset tensor: (1873, 28, 28)\n",
      "Mean: 0.0053560846\n",
      "Standard deviation: 0.45711538\n",
      "Pickling ./notMNIST_small/C.pickle.\n",
      "./notMNIST_small/C\n",
      "Full dataset tensor: (1873, 28, 28)\n",
      "Mean: -0.14152056\n",
      "Standard deviation: 0.44269028\n",
      "Pickling ./notMNIST_small/D.pickle.\n",
      "./notMNIST_small/D\n",
      "Full dataset tensor: (1873, 28, 28)\n",
      "Mean: -0.049216677\n",
      "Standard deviation: 0.4597589\n",
      "Pickling ./notMNIST_small/E.pickle.\n",
      "./notMNIST_small/E\n",
      "Full dataset tensor: (1873, 28, 28)\n",
      "Mean: -0.059914775\n",
      "Standard deviation: 0.4573496\n",
      "Pickling ./notMNIST_small/F.pickle.\n",
      "./notMNIST_small/F\n",
      "Could not read: ./notMNIST_small/F/Q3Jvc3NvdmVyIEJvbGRPYmxpcXVlLnR0Zg==.png : Could not find a format to read the specified file in mode 'i' - it's ok, skipping.\n",
      "Full dataset tensor: (1872, 28, 28)\n",
      "Mean: -0.11818531\n",
      "Standard deviation: 0.4522786\n",
      "Pickling ./notMNIST_small/G.pickle.\n",
      "./notMNIST_small/G\n",
      "Full dataset tensor: (1872, 28, 28)\n",
      "Mean: -0.09255032\n",
      "Standard deviation: 0.4490058\n",
      "Pickling ./notMNIST_small/H.pickle.\n",
      "./notMNIST_small/H\n",
      "Full dataset tensor: (1872, 28, 28)\n",
      "Mean: -0.058689263\n",
      "Standard deviation: 0.45875898\n",
      "Pickling ./notMNIST_small/I.pickle.\n",
      "./notMNIST_small/I\n",
      "Full dataset tensor: (1872, 28, 28)\n",
      "Mean: 0.052645054\n",
      "Standard deviation: 0.47189352\n",
      "Pickling ./notMNIST_small/J.pickle.\n",
      "./notMNIST_small/J\n",
      "Full dataset tensor: (1872, 28, 28)\n",
      "Mean: -0.1516892\n",
      "Standard deviation: 0.44801357\n"
     ]
    }
   ],
   "source": [
    "image_size = 28  # Pixel width and height.\n",
    "pixel_depth = 255.0  # Number of levels per pixel.\n",
    "\n",
    "def load_letter(folder, min_num_images):\n",
    "  \"\"\"Load the data for a single letter label.\"\"\"\n",
    "  image_files = os.listdir(folder)\n",
    "  dataset = np.ndarray(shape=(len(image_files), image_size, image_size),\n",
    "                         dtype=np.float32)\n",
    "  print(folder)\n",
    "  num_images = 0\n",
    "  for image in image_files:\n",
    "    image_file = os.path.join(folder, image)\n",
    "    try:\n",
    "      image_data = (imageio.imread(image_file).astype(float) - \n",
    "                    pixel_depth / 2) / pixel_depth\n",
    "      if image_data.shape != (image_size, image_size):\n",
    "        raise Exception('Unexpected image shape: %s' % str(image_data.shape))\n",
    "      dataset[num_images, :, :] = image_data\n",
    "      num_images = num_images + 1\n",
    "    except (IOError, ValueError) as e:\n",
    "      print('Could not read:', image_file, ':', e, '- it\\'s ok, skipping.')\n",
    "    \n",
    "  dataset = dataset[0:num_images, :, :]\n",
    "  if num_images < min_num_images:\n",
    "    raise Exception('Many fewer images than expected: %d < %d' %\n",
    "                    (num_images, min_num_images))\n",
    "    \n",
    "  print('Full dataset tensor:', dataset.shape)\n",
    "  print('Mean:', np.mean(dataset))\n",
    "  print('Standard deviation:', np.std(dataset))\n",
    "  return dataset\n",
    "        \n",
    "def maybe_pickle(data_folders, min_num_images_per_class, force=False):\n",
    "  dataset_names = []\n",
    "  for folder in data_folders:\n",
    "    set_filename = folder + '.pickle'\n",
    "    dataset_names.append(set_filename)\n",
    "    if os.path.exists(set_filename) and not force:\n",
    "      # You may override by setting force=True.\n",
    "      print('%s already present - Skipping pickling.' % set_filename)\n",
    "    else:\n",
    "      print('Pickling %s.' % set_filename)\n",
    "      dataset = load_letter(folder, min_num_images_per_class)\n",
    "      try:\n",
    "        with open(set_filename, 'wb') as f:\n",
    "          pickle.dump(dataset, f, pickle.HIGHEST_PROTOCOL)\n",
    "      except Exception as e:\n",
    "        print('Unable to save data to', set_filename, ':', e)\n",
    "  \n",
    "  return dataset_names\n",
    "\n",
    "train_datasets = maybe_pickle(train_folders, 45000)\n",
    "test_datasets = maybe_pickle(test_folders, 1800)"
   ]
  },
  {
   "cell_type": "code",
   "execution_count": 7,
   "metadata": {},
   "outputs": [
    {
     "name": "stdout",
     "output_type": "stream",
     "text": [
      "['./notMNIST_large/A.pickle', './notMNIST_large/B.pickle', './notMNIST_large/C.pickle', './notMNIST_large/D.pickle', './notMNIST_large/E.pickle', './notMNIST_large/F.pickle', './notMNIST_large/G.pickle', './notMNIST_large/H.pickle', './notMNIST_large/I.pickle', './notMNIST_large/J.pickle']\n"
     ]
    }
   ],
   "source": [
    "print(train_datasets)"
   ]
  },
  {
   "cell_type": "code",
   "execution_count": 8,
   "metadata": {},
   "outputs": [
    {
     "name": "stdout",
     "output_type": "stream",
     "text": [
      "['./notMNIST_small/A.pickle', './notMNIST_small/B.pickle', './notMNIST_small/C.pickle', './notMNIST_small/D.pickle', './notMNIST_small/E.pickle', './notMNIST_small/F.pickle', './notMNIST_small/G.pickle', './notMNIST_small/H.pickle', './notMNIST_small/I.pickle', './notMNIST_small/J.pickle']\n"
     ]
    }
   ],
   "source": [
    "print(test_datasets)"
   ]
  },
  {
   "cell_type": "code",
   "execution_count": 9,
   "metadata": {},
   "outputs": [
    {
     "data": {
      "text/plain": [
       "Text(0.5,1,'Char a')"
      ]
     },
     "execution_count": 9,
     "metadata": {},
     "output_type": "execute_result"
    },
    {
     "data": {
      "image/png": "[encoded data removed]",
      "text/plain": [
       "<matplotlib.figure.Figure at 0x7fb764d9a4a8>"
      ]
     },
     "metadata": {
      "needs_background": "light"
     },
     "output_type": "display_data"
    }
   ],
   "source": [
    "with open(train_datasets[0], 'rb') as f:\n",
    "        letter_set = pickle.load(f)\n",
    "plt.imshow(letter_set[0])\n",
    "plt.title(\"Char a\")"
   ]
  },
  {
   "cell_type": "code",
   "execution_count": 10,
   "metadata": {},
   "outputs": [
    {
     "data": {
      "text/plain": [
       "Text(0.5,1,'Char a')"
      ]
     },
     "execution_count": 10,
     "metadata": {},
     "output_type": "execute_result"
    },
    {
     "data": {
      "image/png": "[encoded data removed]",
      "text/plain": [
       "<matplotlib.figure.Figure at 0x7fb75aa0a278>"
      ]
     },
     "metadata": {
      "needs_background": "light"
     },
     "output_type": "display_data"
    }
   ],
   "source": [
    "with open(train_datasets[0], 'rb') as f:\n",
    "        letter_set = pickle.load(f)\n",
    "plt.imshow(letter_set[1])\n",
    "plt.title(\"Char a\")"
   ]
  },
  {
   "cell_type": "code",
   "execution_count": 11,
   "metadata": {},
   "outputs": [
    {
     "name": "stdout",
     "output_type": "stream",
     "text": [
      "Training: (200000, 28, 28) (200000,)\n",
      "Validation: (10000, 28, 28) (10000,)\n",
      "Testing: (10000, 28, 28) (10000,)\n"
     ]
    }
   ],
   "source": [
    "def make_arrays(nb_rows, img_size):\n",
    "  if nb_rows:\n",
    "    dataset = np.ndarray((nb_rows, img_size, img_size), dtype=np.float32)\n",
    "    labels = np.ndarray(nb_rows, dtype=np.int32)\n",
    "  else:\n",
    "    dataset, labels = None, None\n",
    "  return dataset, labels\n",
    "\n",
    "def merge_datasets(pickle_files, train_size, valid_size=0):\n",
    "  num_classes = len(pickle_files)\n",
    "  valid_dataset, valid_labels = make_arrays(valid_size, image_size)\n",
    "  train_dataset, train_labels = make_arrays(train_size, image_size)\n",
    "  vsize_per_class = valid_size // num_classes\n",
    "  tsize_per_class = train_size // num_classes\n",
    "    \n",
    "  start_v, start_t = 0, 0\n",
    "  end_v, end_t = vsize_per_class, tsize_per_class\n",
    "  end_l = vsize_per_class+tsize_per_class\n",
    "  for label, pickle_file in enumerate(pickle_files):       \n",
    "    try:\n",
    "      with open(pickle_file, 'rb') as f:\n",
    "        letter_set = pickle.load(f)\n",
    "        # let's shuffle the letters to have random validation and training set\n",
    "        np.random.shuffle(letter_set)\n",
    "        if valid_dataset is not None:\n",
    "          valid_letter = letter_set[:vsize_per_class, :, :]\n",
    "          valid_dataset[start_v:end_v, :, :] = valid_letter\n",
    "          valid_labels[start_v:end_v] = label\n",
    "          start_v += vsize_per_class\n",
    "          end_v += vsize_per_class\n",
    "                    \n",
    "        train_letter = letter_set[vsize_per_class:end_l, :, :]\n",
    "        train_dataset[start_t:end_t, :, :] = train_letter\n",
    "        train_labels[start_t:end_t] = label\n",
    "        start_t += tsize_per_class\n",
    "        end_t += tsize_per_class\n",
    "    except Exception as e:\n",
    "      print('Unable to process data from', pickle_file, ':', e)\n",
    "      raise\n",
    "    \n",
    "  return valid_dataset, valid_labels, train_dataset, train_labels\n",
    "            \n",
    "            \n",
    "train_size = 200000\n",
    "valid_size = 10000\n",
    "test_size = 10000\n",
    "\n",
    "valid_dataset, valid_labels, train_dataset, train_labels = merge_datasets(\n",
    "  train_datasets, train_size, valid_size)\n",
    "_, _, test_dataset, test_labels = merge_datasets(test_datasets, test_size)\n",
    "\n",
    "print('Training:', train_dataset.shape, train_labels.shape)\n",
    "print('Validation:', valid_dataset.shape, valid_labels.shape)\n",
    "print('Testing:', test_dataset.shape, test_labels.shape)"
   ]
  },
  {
   "cell_type": "code",
   "execution_count": 12,
   "metadata": {},
   "outputs": [],
   "source": [
    "def randomize(dataset, labels):\n",
    "  permutation = np.random.permutation(labels.shape[0])\n",
    "  shuffled_dataset = dataset[permutation,:,:]\n",
    "  shuffled_labels = labels[permutation]\n",
    "  return shuffled_dataset, shuffled_labels\n",
    "train_dataset, train_labels = randomize(train_dataset, train_labels)\n",
    "test_dataset, test_labels = randomize(test_dataset, test_labels)\n",
    "valid_dataset, valid_labels = randomize(valid_dataset, valid_labels)"
   ]
  },
  {
   "cell_type": "code",
   "execution_count": 13,
   "metadata": {},
   "outputs": [],
   "source": [
    "pickle_file = os.path.join(data_root, 'notMNIST.pickle')\n",
    "\n",
    "try:\n",
    "  f = open(pickle_file, 'wb')\n",
    "  save = {\n",
    "    'train_dataset': train_dataset,\n",
    "    'train_labels': train_labels,\n",
    "    'valid_dataset': valid_dataset,\n",
    "    'valid_labels': valid_labels,\n",
    "    'test_dataset': test_dataset,\n",
    "    'test_labels': test_labels,\n",
    "    }\n",
    "  pickle.dump(save, f, pickle.HIGHEST_PROTOCOL)\n",
    "  f.close()\n",
    "except Exception as e:\n",
    "  print('Unable to save data to', pickle_file, ':', e)\n",
    "  raise"
   ]
  },
  {
   "cell_type": "code",
   "execution_count": 14,
   "metadata": {},
   "outputs": [
    {
     "name": "stdout",
     "output_type": "stream",
     "text": [
      "Compressed pickle size: 690800506\n"
     ]
    }
   ],
   "source": [
    "statinfo = os.stat(pickle_file)\n",
    "print('Compressed pickle size:', statinfo.st_size)"
   ]
  },
  {
   "cell_type": "code",
   "execution_count": 15,
   "metadata": {},
   "outputs": [],
   "source": [
    "with open('notMNIST.pickle', 'rb') as f:\n",
    "        load_data = pickle.load(f)"
   ]
  },
  {
   "cell_type": "code",
   "execution_count": 16,
   "metadata": {},
   "outputs": [
    {
     "name": "stdout",
     "output_type": "stream",
     "text": [
      "-0.5\n"
     ]
    }
   ],
   "source": [
    "print(load_data['train_dataset'][0][0][0])"
   ]
  },
  {
   "cell_type": "code",
   "execution_count": 17,
   "metadata": {},
   "outputs": [
    {
     "name": "stdout",
     "output_type": "stream",
     "text": [
      "[[[ 0.1509804   0.23333333  0.2254902  ... -0.5        -0.5\n",
      "   -0.5       ]\n",
      "  [-0.24901961 -0.13137256  0.30784315 ... -0.5        -0.5\n",
      "   -0.5       ]\n",
      "  [-0.5        -0.5        -0.33529413 ... -0.4882353  -0.5\n",
      "   -0.5       ]\n",
      "  ...\n",
      "  [-0.5        -0.5        -0.28039217 ... -0.4882353  -0.5\n",
      "   -0.5       ]\n",
      "  [-0.29215688 -0.12745099  0.32352942 ... -0.5        -0.5\n",
      "   -0.5       ]\n",
      "  [ 0.45686275  0.5         0.5        ... -0.5        -0.5\n",
      "   -0.5       ]]\n",
      "\n",
      " [[-0.5        -0.5        -0.5        ... -0.01372549 -0.18235295\n",
      "   -0.31960785]\n",
      "  [-0.5        -0.5        -0.5        ...  0.49607843  0.5\n",
      "    0.38235295]\n",
      "  [-0.5        -0.5        -0.5        ...  0.47254902  0.5\n",
      "    0.17843138]\n",
      "  ...\n",
      "  [-0.49607843 -0.5        -0.48431373 ... -0.5        -0.5\n",
      "   -0.5       ]\n",
      "  [-0.5        -0.49607843 -0.4882353  ... -0.5        -0.5\n",
      "   -0.5       ]\n",
      "  [-0.5        -0.5        -0.49607843 ... -0.5        -0.5\n",
      "   -0.5       ]]\n",
      "\n",
      " [[-0.5        -0.5        -0.5        ... -0.5        -0.40980393\n",
      "   -0.39803922]\n",
      "  [-0.5        -0.5        -0.5        ...  0.07647059  0.4490196\n",
      "   -0.00196078]\n",
      "  [-0.5        -0.5        -0.5        ...  0.28039217 -0.22156863\n",
      "   -0.48431373]\n",
      "  ...\n",
      "  [-0.49607843 -0.49215686 -0.5        ... -0.5        -0.5\n",
      "   -0.5       ]\n",
      "  [-0.5        -0.5        -0.4882353  ... -0.5        -0.5\n",
      "   -0.5       ]\n",
      "  [-0.5        -0.5        -0.5        ... -0.5        -0.5\n",
      "   -0.5       ]]\n",
      "\n",
      " ...\n",
      "\n",
      " [[-0.5        -0.5        -0.5        ... -0.48431373 -0.5\n",
      "   -0.5       ]\n",
      "  [-0.5        -0.5        -0.5        ... -0.5        -0.39411765\n",
      "   -0.5       ]\n",
      "  [-0.5        -0.5        -0.5        ... -0.01372549  0.41764706\n",
      "   -0.09215686]\n",
      "  ...\n",
      "  [-0.5        -0.4882353  -0.5        ... -0.49607843 -0.49607843\n",
      "   -0.5       ]\n",
      "  [-0.5        -0.5        -0.4882353  ... -0.5        -0.5\n",
      "   -0.5       ]\n",
      "  [-0.5        -0.5        -0.5        ... -0.5        -0.5\n",
      "   -0.5       ]]\n",
      "\n",
      " [[-0.5        -0.5        -0.5        ...  0.5         0.5\n",
      "    0.5       ]\n",
      "  [-0.5        -0.5        -0.5        ...  0.5         0.5\n",
      "    0.5       ]\n",
      "  [-0.5        -0.5        -0.5        ...  0.5         0.5\n",
      "    0.5       ]\n",
      "  ...\n",
      "  [-0.49607843 -0.5        -0.42156863 ... -0.5        -0.49215686\n",
      "   -0.5       ]\n",
      "  [-0.5        -0.49215686 -0.49607843 ... -0.49215686 -0.5\n",
      "   -0.5       ]\n",
      "  [-0.5        -0.5        -0.49215686 ... -0.5        -0.5\n",
      "   -0.5       ]]\n",
      "\n",
      " [[-0.5        -0.5        -0.5        ... -0.5        -0.5\n",
      "   -0.5       ]\n",
      "  [-0.5        -0.5        -0.5        ... -0.5        -0.5\n",
      "   -0.5       ]\n",
      "  [-0.5        -0.5        -0.5        ... -0.5        -0.5\n",
      "   -0.5       ]\n",
      "  ...\n",
      "  [-0.49607843 -0.49607843 -0.3156863  ... -0.16666667 -0.5\n",
      "   -0.49607843]\n",
      "  [ 0.16666667  0.35490197  0.47254902 ...  0.49607843  0.35490197\n",
      "    0.27254903]\n",
      "  [ 0.37058824  0.5         0.49215686 ...  0.49215686  0.5\n",
      "    0.5       ]]]\n"
     ]
    }
   ],
   "source": [
    "print(load_data['test_dataset'])"
   ]
  },
  {
   "cell_type": "code",
   "execution_count": 18,
   "metadata": {},
   "outputs": [
    {
     "data": {
      "text/plain": [
       "array([-0.5       , -0.49607843, -0.49215686, -0.4882353 , -0.48431373,\n",
       "       -0.48039216, -0.4764706 , -0.47254902, -0.46862745, -0.46470588,\n",
       "       -0.46078432, -0.45686275, -0.45294118, -0.4490196 , -0.44509804,\n",
       "       -0.44117647, -0.4372549 , -0.43333334, -0.42941177, -0.4254902 ,\n",
       "       -0.42156863, -0.41764706, -0.4137255 , -0.40980393, -0.40588236,\n",
       "       -0.4019608 , -0.39803922, -0.39411765, -0.39019608, -0.38627452,\n",
       "       -0.38235295, -0.37843138, -0.3745098 , -0.37058824, -0.36666667,\n",
       "       -0.3627451 , -0.35882354, -0.35490197, -0.3509804 , -0.34705883,\n",
       "       -0.34313726, -0.3392157 , -0.33529413, -0.33137256, -0.327451  ,\n",
       "       -0.32352942, -0.31960785, -0.3156863 , -0.31176472, -0.30784315,\n",
       "       -0.30392158, -0.3       , -0.29607844, -0.29215688, -0.2882353 ,\n",
       "       -0.28431374, -0.28039217, -0.2764706 , -0.27254903, -0.26862746,\n",
       "       -0.2647059 , -0.26078433, -0.25686276, -0.2529412 , -0.24901961,\n",
       "       -0.24509804, -0.24117647, -0.2372549 , -0.23333333, -0.22941177,\n",
       "       -0.2254902 , -0.22156863, -0.21764706, -0.21372549, -0.20980392,\n",
       "       -0.20588236, -0.20196079, -0.19803922, -0.19411765, -0.19019608,\n",
       "       -0.18627451, -0.18235295, -0.17843138, -0.17450981, -0.17058824,\n",
       "       -0.16666667, -0.1627451 , -0.15882353, -0.15490197, -0.1509804 ,\n",
       "       -0.14705883, -0.14313726, -0.1392157 , -0.13529412, -0.13137256,\n",
       "       -0.12745099, -0.12352941, -0.11960784, -0.11568628, -0.11176471,\n",
       "       -0.10784314, -0.10392157, -0.1       , -0.09607843, -0.09215686,\n",
       "       -0.0882353 , -0.08431373, -0.08039216, -0.07647059, -0.07254902,\n",
       "       -0.06862745, -0.06470589, -0.06078431, -0.05686275, -0.05294118,\n",
       "       -0.04901961, -0.04509804, -0.04117647, -0.0372549 , -0.03333334,\n",
       "       -0.02941176, -0.0254902 , -0.02156863, -0.01764706, -0.01372549,\n",
       "       -0.00980392, -0.00588235, -0.00196078,  0.00196078,  0.00588235,\n",
       "        0.00980392,  0.01372549,  0.01764706,  0.02156863,  0.0254902 ,\n",
       "        0.02941176,  0.03333334,  0.0372549 ,  0.04117647,  0.04509804,\n",
       "        0.04901961,  0.05294118,  0.05686275,  0.06078431,  0.06470589,\n",
       "        0.06862745,  0.07254902,  0.07647059,  0.08039216,  0.08431373,\n",
       "        0.0882353 ,  0.09215686,  0.09607843,  0.1       ,  0.10392157,\n",
       "        0.10784314,  0.11176471,  0.11568628,  0.11960784,  0.12352941,\n",
       "        0.12745099,  0.13137256,  0.13529412,  0.1392157 ,  0.14313726,\n",
       "        0.14705883,  0.1509804 ,  0.15490197,  0.15882353,  0.1627451 ,\n",
       "        0.16666667,  0.17058824,  0.17450981,  0.17843138,  0.18235295,\n",
       "        0.18627451,  0.19019608,  0.19411765,  0.19803922,  0.20196079,\n",
       "        0.20588236,  0.20980392,  0.21372549,  0.21764706,  0.22156863,\n",
       "        0.2254902 ,  0.22941177,  0.23333333,  0.2372549 ,  0.24117647,\n",
       "        0.24509804,  0.24901961,  0.2529412 ,  0.25686276,  0.26078433,\n",
       "        0.2647059 ,  0.26862746,  0.27254903,  0.2764706 ,  0.28039217,\n",
       "        0.28431374,  0.2882353 ,  0.29215688,  0.29607844,  0.3       ,\n",
       "        0.30392158,  0.30784315,  0.31176472,  0.3156863 ,  0.31960785,\n",
       "        0.32352942,  0.327451  ,  0.33137256,  0.33529413,  0.3392157 ,\n",
       "        0.34313726,  0.34705883,  0.3509804 ,  0.35490197,  0.35882354,\n",
       "        0.3627451 ,  0.36666667,  0.37058824,  0.3745098 ,  0.37843138,\n",
       "        0.38235295,  0.38627452,  0.39019608,  0.39411765,  0.39803922,\n",
       "        0.4019608 ,  0.40588236,  0.40980393,  0.4137255 ,  0.41764706,\n",
       "        0.42156863,  0.4254902 ,  0.42941177,  0.43333334,  0.4372549 ,\n",
       "        0.44117647,  0.44509804,  0.4490196 ,  0.45294118,  0.45686275,\n",
       "        0.46078432,  0.46470588,  0.46862745,  0.47254902,  0.4764706 ,\n",
       "        0.48039216,  0.48431373,  0.4882353 ,  0.49215686,  0.49607843,\n",
       "        0.5       ], dtype=float32)"
      ]
     },
     "execution_count": 18,
     "metadata": {},
     "output_type": "execute_result"
    }
   ],
   "source": [
    "np.intersect1d(load_data['train_dataset'],load_data['test_dataset'])"
   ]
  },
  {
   "cell_type": "code",
   "execution_count": 19,
   "metadata": {},
   "outputs": [
    {
     "name": "stdout",
     "output_type": "stream",
     "text": [
      "256\n"
     ]
    }
   ],
   "source": [
    "print(len(np.intersect1d(load_data['train_dataset'],load_data['test_dataset'])))"
   ]
  },
  {
   "cell_type": "code",
   "execution_count": 20,
   "metadata": {},
   "outputs": [
    {
     "name": "stdout",
     "output_type": "stream",
     "text": [
      "Number of overlaps: 1300\n"
     ]
    },
    {
     "data": {
      "image/png": "[encoded data removed]",
      "text/plain": [
       "<matplotlib.figure.Figure at 0x7fb75a704ef0>"
      ]
     },
     "metadata": {
      "needs_background": "light"
     },
     "output_type": "display_data"
    },
    {
     "name": "stdout",
     "output_type": "stream",
     "text": [
      "Overlapping images removed from test_dataset:  1300\n",
      "Overlapping images removed from valid_dataset:  1084\n",
      "Training: (200000, 28, 28) (200000,)\n",
      "Validation: (8916,) (8916,)\n",
      "Testing: (8700, 28, 28) (8700,)\n",
      "Compressed pickle size: 683314746\n"
     ]
    }
   ],
   "source": [
    "import hashlib\n",
    "\n",
    "\n",
    "def extract_overlap_hash_where(dataset_1, dataset_2):\n",
    "    dataset_hash_1 = np.array([hashlib.sha256(img).hexdigest() for img in dataset_1])\n",
    "    dataset_hash_2 = np.array([hashlib.sha256(img).hexdigest() for img in dataset_2])\n",
    "    overlap = {}\n",
    "    for i, hash1 in enumerate(dataset_hash_1):\n",
    "        duplicates = np.where(dataset_hash_2 == hash1)\n",
    "        if len(duplicates[0]):\n",
    "            overlap[i] = duplicates[0]\n",
    "    return overlap\n",
    "\n",
    "\n",
    "def display_overlap(overlap, source_dataset, target_dataset):\n",
    "    overlap = {k: v for k, v in overlap.items() if len(v) >= 3}\n",
    "    item = np.random.choice(list(overlap.keys()))\n",
    "    imgs = np.concatenate(([source_dataset[item]], target_dataset[overlap[item][0:7]]))\n",
    "    plt.suptitle(item)\n",
    "    for i, img in enumerate(imgs):\n",
    "        plt.subplot(2, 4, i + 1)\n",
    "        plt.axis('off')\n",
    "        plt.imshow(img)\n",
    "\n",
    "    plt.show()\n",
    "\n",
    "\n",
    "def sanitize(dataset_1, dataset_2, labels_1):\n",
    "    dataset_hash_1 = np.array([hashlib.sha256(img).hexdigest() for img in dataset_1])\n",
    "    dataset_hash_2 = np.array([hashlib.sha256(img).hexdigest() for img in dataset_2])\n",
    "    overlap = []  # list of indexes\n",
    "    for i, hash1 in enumerate(dataset_hash_1):\n",
    "        duplicates = np.where(dataset_hash_2 == hash1)\n",
    "        if len(duplicates[0]):\n",
    "            overlap.append(i)\n",
    "    return np.delete(dataset_1, overlap, 0), np.delete(labels_1, overlap, None)\n",
    "\n",
    "\n",
    "overlap_test_train = extract_overlap_hash_where(test_dataset, train_dataset)\n",
    "print('Number of overlaps:', len(overlap_test_train.keys()))\n",
    "display_overlap(overlap_test_train, test_dataset, train_dataset)\n",
    "\n",
    "test_dataset_sanit, test_labels_sanit = sanitize(test_dataset, train_dataset, test_labels)\n",
    "print('Overlapping images removed from test_dataset: ', len(test_dataset) - len(test_dataset_sanit))\n",
    "valid_dataset_sanit, valid_labels_sanit = sanitize(valid_dataset, train_dataset, valid_labels)\n",
    "print('Overlapping images removed from valid_dataset: ', len(valid_dataset) - len(valid_dataset_sanit))\n",
    "print('Training:', train_dataset.shape, train_labels.shape)\n",
    "print('Validation:', valid_labels_sanit.shape, valid_labels_sanit.shape)\n",
    "print('Testing:', test_dataset_sanit.shape, test_labels_sanit.shape)\n",
    "pickle_file_sanit = 'notMNIST_sanit.pickle'\n",
    "\n",
    "try:\n",
    "    f = open(pickle_file_sanit, 'wb')\n",
    "    save = {\n",
    "        'train_dataset': train_dataset,\n",
    "        'train_labels': train_labels,\n",
    "        'valid_dataset': valid_dataset_sanit,\n",
    "        'valid_labels': valid_labels_sanit,\n",
    "        'test_dataset': test_dataset_sanit,\n",
    "        'test_labels': test_labels_sanit,\n",
    "    }\n",
    "    pickle.dump(save, f, pickle.HIGHEST_PROTOCOL)\n",
    "    f.close()\n",
    "except Exception as e:\n",
    "    print('Unable to save data to', pickle_file, ':', e)\n",
    "    raise\n",
    "\n",
    "statinfo = os.stat(pickle_file_sanit)\n",
    "print('Compressed pickle size:', statinfo.st_size)"
   ]
  },
  {
   "cell_type": "code",
   "execution_count": 21,
   "metadata": {},
   "outputs": [
    {
     "name": "stdout",
     "output_type": "stream",
     "text": [
      "Accuracy: 0.5702 when sample_size= 50\n"
     ]
    },
    {
     "data": {
      "image/png": "[encoded data removed]",
      "text/plain": [
       "<matplotlib.figure.Figure at 0x7fb75a657be0>"
      ]
     },
     "metadata": {
      "needs_background": "light"
     },
     "output_type": "display_data"
    },
    {
     "name": "stdout",
     "output_type": "stream",
     "text": [
      "Accuracy: 0.7271 when sample_size= 100\n"
     ]
    },
    {
     "data": {
      "image/png": "[encoded data removed]",
      "text/plain": [
       "<matplotlib.figure.Figure at 0x7fb75a59a3c8>"
      ]
     },
     "metadata": {
      "needs_background": "light"
     },
     "output_type": "display_data"
    },
    {
     "name": "stdout",
     "output_type": "stream",
     "text": [
      "Accuracy: 0.832 when sample_size= 1000\n"
     ]
    },
    {
     "data": {
      "image/png": "[encoded data removed]",
      "text/plain": [
       "<matplotlib.figure.Figure at 0x7fb7552a67f0>"
      ]
     },
     "metadata": {
      "needs_background": "light"
     },
     "output_type": "display_data"
    },
    {
     "name": "stdout",
     "output_type": "stream",
     "text": [
      "Accuracy: 0.8459 when sample_size= 5000\n"
     ]
    },
    {
     "data": {
      "image/png": "[encoded data removed]",
      "text/plain": [
       "<matplotlib.figure.Figure at 0x7fb755011b70>"
      ]
     },
     "metadata": {
      "needs_background": "light"
     },
     "output_type": "display_data"
    },
    {
     "name": "stdout",
     "output_type": "stream",
     "text": [
      "Accuracy: 0.8908 when sample_size= 200000\n"
     ]
    },
    {
     "data": {
      "image/png": "[encoded data removed]",
      "text/plain": [
       "<matplotlib.figure.Figure at 0x7fb755011c88>"
      ]
     },
     "metadata": {
      "needs_background": "light"
     },
     "output_type": "display_data"
    }
   ],
   "source": [
    "import random\n",
    "def disp_sample_dataset(dataset, labels, title=None):\n",
    "    fig = plt.figure()\n",
    "    if title: fig.suptitle(title, fontsize=16, fontweight='bold')\n",
    "    items = random.sample(range(len(labels)), 8)\n",
    "    for i, item in enumerate(items):\n",
    "        plt.subplot(2, 4, i + 1)\n",
    "        plt.axis('off')\n",
    "        plt.title(chr(ord('A') + labels[item]))\n",
    "        plt.imshow(dataset[item])\n",
    "    plt.show()\n",
    "\n",
    "\n",
    "def train_and_predict(sample_size):\n",
    "    regr = LogisticRegression()\n",
    "    X_train = train_dataset[:sample_size].reshape(sample_size, 784)\n",
    "    y_train = train_labels[:sample_size]\n",
    "    regr.fit(X_train, y_train)\n",
    "\n",
    "    X_test = test_dataset.reshape(test_dataset.shape[0], 28 * 28)\n",
    "    y_test = test_labels\n",
    "\n",
    "    pred_labels = regr.predict(X_test)\n",
    "\n",
    "    print('Accuracy:', regr.score(X_test, y_test), 'when sample_size=', sample_size)\n",
    "    disp_sample_dataset(test_dataset, pred_labels, 'sample_size=' + str(sample_size))\n",
    "\n",
    "\n",
    "for sample_size in [50, 100, 1000, 5000, len(train_dataset)]:\n",
    "    train_and_predict(sample_size)"
   ]
  },
  {
   "cell_type": "code",
   "execution_count": null,
   "metadata": {},
   "outputs": [],
   "source": []
  }
 ],
 "metadata": {
  "kernelspec": {
   "display_name": "Python 3",
   "language": "python",
   "name": "python3"
  },
  "language_info": {
   "codemirror_mode": {
    "name": "ipython",
    "version": 3
   },
   "file_extension": ".py",
   "mimetype": "text/x-python",
   "name": "python",
   "nbconvert_exporter": "python",
   "pygments_lexer": "ipython3",
   "version": "3.6.4"
  }
 },
 "nbformat": 4,
 "nbformat_minor": 2
}
